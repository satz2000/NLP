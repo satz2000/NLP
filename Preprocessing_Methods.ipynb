{
  "nbformat": 4,
  "nbformat_minor": 0,
  "metadata": {
    "colab": {
      "name": "PREPROCESSING_1  NLP.ipynb",
      "provenance": []
    },
    "kernelspec": {
      "name": "python3",
      "display_name": "Python 3"
    },
    "language_info": {
      "name": "python"
    }
  },
  "cells": [
    {
      "cell_type": "markdown",
      "metadata": {
        "id": "txB8mFbZQouo"
      },
      "source": [
        "## **PREPROCESSING OF TEXT DATA - NLP**"
      ]
    },
    {
      "cell_type": "code",
      "metadata": {
        "id": "meqhvXzpPYGo"
      },
      "source": [
        "# importing NLTK library \n",
        "import nltk\n",
        "nltk.download(\"all\")    # dowloading all packages in this library"
      ],
      "execution_count": null,
      "outputs": []
    },
    {
      "cell_type": "code",
      "metadata": {
        "id": "f8xnSu3CP800"
      },
      "source": [
        "# text data\n",
        "paragraph = \"\"\"I have three visions for India. In 3000 years of our history, people from all over \n",
        "               the world have come and invaded us, captured our lands, conquered our minds. \n",
        "               From Alexander onwards, the Greeks, the Turks, the Moguls, the Portuguese, the British,\n",
        "               the French, the Dutch, all of them came and looted us, took over what was ours. \n",
        "               Yet we have not done this to any other nation. We have not conquered anyone. \n",
        "               We have not grabbed their land, their culture, \n",
        "               their history and tried to enforce our way of life on them. \n",
        "               Why? Because we respect the freedom of others.That is why my \n",
        "               first vision is that of freedom. I believe that India got its first vision of \n",
        "               this in 1857, when we started the War of Independence. It is this freedom that\n",
        "               we must protect and nurture and build on. If we are not free, no one will respect us.\n",
        "               My second vision for India’s development. For fifty years we have been a developing nation.\n",
        "               It is time we see ourselves as a developed nation. We are among the top 5 nations of the world\n",
        "               in terms of GDP. We have a 10 percent growth rate in most areas. Our poverty levels are falling.\n",
        "               Our achievements are being globally recognised today. Yet we lack the self-confidence to\n",
        "               see ourselves as a developed nation, self-reliant and self-assured. Isn’t this incorrect?\n",
        "               I have a third vision. India must stand up to the world. Because I believe that unless India \n",
        "               stands up to the world, no one will respect us. Only strength respects strength. We must be \n",
        "               strong not only as a military power but also as an economic power. Both must go hand-in-hand. \n",
        "               My good fortune was to have worked with three great minds. Dr. Vikram Sarabhai of the Dept. of \n",
        "               space, Professor Satish Dhawan, who succeeded him and Dr. Brahm Prakash, father of nuclear material.\n",
        "               I was lucky to have worked with all three of them closely and consider this the great opportunity of my life. \n",
        "               I see four milestones in my career\"\"\""
      ],
      "execution_count": 2,
      "outputs": []
    },
    {
      "cell_type": "markdown",
      "metadata": {
        "id": "GXIHPMD6RiKh"
      },
      "source": [
        "#### **TOKENIZATION:**\n",
        "    Convert the documnets or paragraph into individual sentences and words.\n",
        "    1. sent_tokenize - convert para into individual sentences.\n",
        "    2. word_tokenize - convert para into individual words."
      ]
    },
    {
      "cell_type": "code",
      "metadata": {
        "colab": {
          "base_uri": "https://localhost:8080/"
        },
        "id": "1NB5J1tNRTeb",
        "outputId": "43fe6c45-d591-46f0-caff-3d2f64cda19d"
      },
      "source": [
        "# convert documents or paragraph into individual sentences\n",
        "sentences = nltk.sent_tokenize(paragraph)\n",
        "print(sentences)"
      ],
      "execution_count": 3,
      "outputs": [
        {
          "output_type": "stream",
          "name": "stdout",
          "text": [
            "['I have three visions for India.', 'In 3000 years of our history, people from all over \\n               the world have come and invaded us, captured our lands, conquered our minds.', 'From Alexander onwards, the Greeks, the Turks, the Moguls, the Portuguese, the British,\\n               the French, the Dutch, all of them came and looted us, took over what was ours.', 'Yet we have not done this to any other nation.', 'We have not conquered anyone.', 'We have not grabbed their land, their culture, \\n               their history and tried to enforce our way of life on them.', 'Why?', 'Because we respect the freedom of others.That is why my \\n               first vision is that of freedom.', 'I believe that India got its first vision of \\n               this in 1857, when we started the War of Independence.', 'It is this freedom that\\n               we must protect and nurture and build on.', 'If we are not free, no one will respect us.', 'My second vision for India’s development.', 'For fifty years we have been a developing nation.', 'It is time we see ourselves as a developed nation.', 'We are among the top 5 nations of the world\\n               in terms of GDP.', 'We have a 10 percent growth rate in most areas.', 'Our poverty levels are falling.', 'Our achievements are being globally recognised today.', 'Yet we lack the self-confidence to\\n               see ourselves as a developed nation, self-reliant and self-assured.', 'Isn’t this incorrect?', 'I have a third vision.', 'India must stand up to the world.', 'Because I believe that unless India \\n               stands up to the world, no one will respect us.', 'Only strength respects strength.', 'We must be \\n               strong not only as a military power but also as an economic power.', 'Both must go hand-in-hand.', 'My good fortune was to have worked with three great minds.', 'Dr. Vikram Sarabhai of the Dept.', 'of \\n               space, Professor Satish Dhawan, who succeeded him and Dr. Brahm Prakash, father of nuclear material.', 'I was lucky to have worked with all three of them closely and consider this the great opportunity of my life.', 'I see four milestones in my career']\n"
          ]
        }
      ]
    },
    {
      "cell_type": "code",
      "metadata": {
        "colab": {
          "base_uri": "https://localhost:8080/"
        },
        "id": "EmStj1K7Rzlm",
        "outputId": "8767e826-5713-4785-949c-35e1fe5d645e"
      },
      "source": [
        "# broke down the whole documents or para into individual sentences\n",
        "words = nltk.word_tokenize(paragraph)\n",
        "print(words)"
      ],
      "execution_count": 4,
      "outputs": [
        {
          "output_type": "stream",
          "name": "stdout",
          "text": [
            "['I', 'have', 'three', 'visions', 'for', 'India', '.', 'In', '3000', 'years', 'of', 'our', 'history', ',', 'people', 'from', 'all', 'over', 'the', 'world', 'have', 'come', 'and', 'invaded', 'us', ',', 'captured', 'our', 'lands', ',', 'conquered', 'our', 'minds', '.', 'From', 'Alexander', 'onwards', ',', 'the', 'Greeks', ',', 'the', 'Turks', ',', 'the', 'Moguls', ',', 'the', 'Portuguese', ',', 'the', 'British', ',', 'the', 'French', ',', 'the', 'Dutch', ',', 'all', 'of', 'them', 'came', 'and', 'looted', 'us', ',', 'took', 'over', 'what', 'was', 'ours', '.', 'Yet', 'we', 'have', 'not', 'done', 'this', 'to', 'any', 'other', 'nation', '.', 'We', 'have', 'not', 'conquered', 'anyone', '.', 'We', 'have', 'not', 'grabbed', 'their', 'land', ',', 'their', 'culture', ',', 'their', 'history', 'and', 'tried', 'to', 'enforce', 'our', 'way', 'of', 'life', 'on', 'them', '.', 'Why', '?', 'Because', 'we', 'respect', 'the', 'freedom', 'of', 'others.That', 'is', 'why', 'my', 'first', 'vision', 'is', 'that', 'of', 'freedom', '.', 'I', 'believe', 'that', 'India', 'got', 'its', 'first', 'vision', 'of', 'this', 'in', '1857', ',', 'when', 'we', 'started', 'the', 'War', 'of', 'Independence', '.', 'It', 'is', 'this', 'freedom', 'that', 'we', 'must', 'protect', 'and', 'nurture', 'and', 'build', 'on', '.', 'If', 'we', 'are', 'not', 'free', ',', 'no', 'one', 'will', 'respect', 'us', '.', 'My', 'second', 'vision', 'for', 'India', '’', 's', 'development', '.', 'For', 'fifty', 'years', 'we', 'have', 'been', 'a', 'developing', 'nation', '.', 'It', 'is', 'time', 'we', 'see', 'ourselves', 'as', 'a', 'developed', 'nation', '.', 'We', 'are', 'among', 'the', 'top', '5', 'nations', 'of', 'the', 'world', 'in', 'terms', 'of', 'GDP', '.', 'We', 'have', 'a', '10', 'percent', 'growth', 'rate', 'in', 'most', 'areas', '.', 'Our', 'poverty', 'levels', 'are', 'falling', '.', 'Our', 'achievements', 'are', 'being', 'globally', 'recognised', 'today', '.', 'Yet', 'we', 'lack', 'the', 'self-confidence', 'to', 'see', 'ourselves', 'as', 'a', 'developed', 'nation', ',', 'self-reliant', 'and', 'self-assured', '.', 'Isn', '’', 't', 'this', 'incorrect', '?', 'I', 'have', 'a', 'third', 'vision', '.', 'India', 'must', 'stand', 'up', 'to', 'the', 'world', '.', 'Because', 'I', 'believe', 'that', 'unless', 'India', 'stands', 'up', 'to', 'the', 'world', ',', 'no', 'one', 'will', 'respect', 'us', '.', 'Only', 'strength', 'respects', 'strength', '.', 'We', 'must', 'be', 'strong', 'not', 'only', 'as', 'a', 'military', 'power', 'but', 'also', 'as', 'an', 'economic', 'power', '.', 'Both', 'must', 'go', 'hand-in-hand', '.', 'My', 'good', 'fortune', 'was', 'to', 'have', 'worked', 'with', 'three', 'great', 'minds', '.', 'Dr.', 'Vikram', 'Sarabhai', 'of', 'the', 'Dept', '.', 'of', 'space', ',', 'Professor', 'Satish', 'Dhawan', ',', 'who', 'succeeded', 'him', 'and', 'Dr.', 'Brahm', 'Prakash', ',', 'father', 'of', 'nuclear', 'material', '.', 'I', 'was', 'lucky', 'to', 'have', 'worked', 'with', 'all', 'three', 'of', 'them', 'closely', 'and', 'consider', 'this', 'the', 'great', 'opportunity', 'of', 'my', 'life', '.', 'I', 'see', 'four', 'milestones', 'in', 'my', 'career']\n"
          ]
        }
      ]
    },
    {
      "cell_type": "markdown",
      "metadata": {
        "id": "ZvAv_V84TYoo"
      },
      "source": [
        "#### **STEMMING:**\n",
        "    Is process of rmoving a part of word or reducing a word to its root.\n",
        "    Disadvantages: Word are not in correct spelling or meaningful words."
      ]
    },
    {
      "cell_type": "code",
      "metadata": {
        "id": "V4PupM4bTIJp"
      },
      "source": [
        "# importing steming packages\n",
        "from nltk.stem import PorterStemmer\n",
        "# importing stopwords packages\n",
        "from nltk.corpus import stopwords\n",
        "\n",
        "sentences = nltk.sent_tokenize(paragraph)   # convert para to individual sentences\n",
        "# creating a object\n",
        "stemmer = PorterStemmer()\n",
        "\n",
        "# looping\n",
        "for i in range(len(sentences)):\n",
        "  words = nltk.word_tokenize(sentences[i])\n",
        "  words = [stemmer.stem(word) for word in words if word not in set(stopwords.words(\"english\"))]    # if words not in stopwords then convert words to stemming\n",
        "  sentences[i] = \" \".join(words)"
      ],
      "execution_count": 5,
      "outputs": []
    },
    {
      "cell_type": "code",
      "metadata": {
        "colab": {
          "base_uri": "https://localhost:8080/"
        },
        "id": "Jwa6IFJSUqvp",
        "outputId": "5de569a0-f01d-4b61-cb0c-a94b2be355b7"
      },
      "source": [
        "print(sentences)"
      ],
      "execution_count": 6,
      "outputs": [
        {
          "output_type": "stream",
          "name": "stdout",
          "text": [
            "['I three vision india .', 'In 3000 year histori , peopl world come invad us , captur land , conquer mind .', 'from alexand onward , greek , turk , mogul , portugues , british , french , dutch , came loot us , took .', 'yet done nation .', 'We conquer anyon .', 'We grab land , cultur , histori tri enforc way life .', 'whi ?', 'becaus respect freedom others.that first vision freedom .', 'I believ india got first vision 1857 , start war independ .', 'It freedom must protect nurtur build .', 'If free , one respect us .', 'My second vision india ’ develop .', 'for fifti year develop nation .', 'It time see develop nation .', 'We among top 5 nation world term gdp .', 'We 10 percent growth rate area .', 'our poverti level fall .', 'our achiev global recognis today .', 'yet lack self-confid see develop nation , self-reli self-assur .', 'isn ’ incorrect ?', 'I third vision .', 'india must stand world .', 'becaus I believ unless india stand world , one respect us .', 'onli strength respect strength .', 'We must strong militari power also econom power .', 'both must go hand-in-hand .', 'My good fortun work three great mind .', 'dr. vikram sarabhai dept .', 'space , professor satish dhawan , succeed dr. brahm prakash , father nuclear materi .', 'I lucki work three close consid great opportun life .', 'I see four mileston career']\n"
          ]
        }
      ]
    },
    {
      "cell_type": "markdown",
      "metadata": {
        "id": "KA2mPXcMXxDV"
      },
      "source": [
        "#### **LEMMATIZATION:**\n",
        "    Is process of converting para into meaningful words."
      ]
    },
    {
      "cell_type": "code",
      "metadata": {
        "id": "uo40L3pQWr4W"
      },
      "source": [
        "# importing lemmatization packages\n",
        "from nltk.stem import WordNetLemmatizer\n",
        "# importing stopwords packages\n",
        "from nltk.corpus import stopwords\n",
        "\n",
        "sentences = nltk.sent_tokenize(paragraph)    # convert para to individual sentences\n",
        "# creating a object\n",
        "lematizer = WordNetLemmatizer()\n",
        "\n",
        "# looping\n",
        "for i in range(len(sentences)):\n",
        "  words = nltk.word_tokenize(sentences[i])\n",
        "  words = [lematizer.lemmatize(word) for word in words if word not in set(stopwords.words(\"english\"))]    # if words not in stopwords then convert words to stemming\n",
        "  sentences[i] = \" \".join(words)"
      ],
      "execution_count": 7,
      "outputs": []
    },
    {
      "cell_type": "code",
      "metadata": {
        "colab": {
          "base_uri": "https://localhost:8080/"
        },
        "id": "8grKGX3CZC4G",
        "outputId": "4652d701-8cdf-44c0-8995-20c06c5f894a"
      },
      "source": [
        "print(sentences)"
      ],
      "execution_count": 8,
      "outputs": [
        {
          "output_type": "stream",
          "name": "stdout",
          "text": [
            "['I three vision India .', 'In 3000 year history , people world come invaded u , captured land , conquered mind .', 'From Alexander onwards , Greeks , Turks , Moguls , Portuguese , British , French , Dutch , came looted u , took .', 'Yet done nation .', 'We conquered anyone .', 'We grabbed land , culture , history tried enforce way life .', 'Why ?', 'Because respect freedom others.That first vision freedom .', 'I believe India got first vision 1857 , started War Independence .', 'It freedom must protect nurture build .', 'If free , one respect u .', 'My second vision India ’ development .', 'For fifty year developing nation .', 'It time see developed nation .', 'We among top 5 nation world term GDP .', 'We 10 percent growth rate area .', 'Our poverty level falling .', 'Our achievement globally recognised today .', 'Yet lack self-confidence see developed nation , self-reliant self-assured .', 'Isn ’ incorrect ?', 'I third vision .', 'India must stand world .', 'Because I believe unless India stand world , one respect u .', 'Only strength respect strength .', 'We must strong military power also economic power .', 'Both must go hand-in-hand .', 'My good fortune worked three great mind .', 'Dr. Vikram Sarabhai Dept .', 'space , Professor Satish Dhawan , succeeded Dr. Brahm Prakash , father nuclear material .', 'I lucky worked three closely consider great opportunity life .', 'I see four milestone career']\n"
          ]
        }
      ]
    },
    {
      "cell_type": "markdown",
      "metadata": {
        "id": "GKG7n6_NZbXa"
      },
      "source": [
        "#### **BAG OF WORDS:**\n",
        "    Convert text into fixed length of vectors by counting how many times words each appears"
      ]
    },
    {
      "cell_type": "code",
      "metadata": {
        "id": "SwtIrDB-ZEsd"
      },
      "source": [
        "# import bag of words library\n",
        "from sklearn.feature_extraction.text import CountVectorizer\n",
        "# removing (. , 's like many)\n",
        "import re    \n",
        "# import stopwords library\n",
        "from nltk.corpus import stopwords    \n",
        "# import lemmatization library\n",
        "from nltk.stem import WordNetLemmatizer     # we can also use stemming library\n",
        "\n",
        "sentences = nltk.sent_tokenize(paragraph)\n",
        "# create an object\n",
        "lematizer = WordNetLemmatizer()\n",
        "\n",
        "# looping\n",
        "store_words = []\n",
        "for i in range(len(sentences)):\n",
        "  x = re.sub(\"[^a-zA-Z0-9]\", \" \", sentences[i])\n",
        "  x = x.lower()\n",
        "  words = x.split()\n",
        "  words = [lematizer.lemmatize(word) for word in words if word not in set(stopwords.words(\"english\"))]    # if words not in stopwords then convert words to stemming\n",
        "  words = \" \".join(words)\n",
        "  store_words.append(words)"
      ],
      "execution_count": 9,
      "outputs": []
    },
    {
      "cell_type": "code",
      "metadata": {
        "colab": {
          "base_uri": "https://localhost:8080/"
        },
        "id": "Mcz_3kC_e-Gn",
        "outputId": "b51a9290-af9a-4be0-b0d5-ec22b33a7324"
      },
      "source": [
        "# converting text into vectors\n",
        "vectorized = CountVectorizer()\n",
        "vectorized_words = vectorized.fit_transform(store_words).toarray()    # converting into array\n",
        "print(vectorized_words)"
      ],
      "execution_count": 10,
      "outputs": [
        {
          "output_type": "stream",
          "name": "stdout",
          "text": [
            "[[0 0 0 ... 0 0 0]\n",
            " [0 0 1 ... 1 1 0]\n",
            " [0 0 0 ... 0 0 0]\n",
            " ...\n",
            " [0 0 0 ... 0 0 0]\n",
            " [0 0 0 ... 0 0 0]\n",
            " [0 0 0 ... 0 0 0]]\n"
          ]
        }
      ]
    },
    {
      "cell_type": "markdown",
      "metadata": {
        "id": "KSIrZ7m-gRDO"
      },
      "source": [
        "#### **TI-IDF MODEL:**\n",
        "    Convert text data into a fixed length of vectors, Its gives an important to unique words.\n",
        "    TF-IDF ---> Term Frequency - Inverse Document Frequency\n"
      ]
    },
    {
      "cell_type": "code",
      "metadata": {
        "id": "b5piF-YMfawF"
      },
      "source": [
        "# import TI-IDF library\n",
        "from sklearn.feature_extraction.text import TfidfVectorizer\n",
        "# removing (. , 's like many)\n",
        "import re    \n",
        "# import stopwords library\n",
        "from nltk.corpus import stopwords    \n",
        "# import lemmatization library\n",
        "from nltk.stem import WordNetLemmatizer     # we can also use stemming library\n",
        "\n",
        "sentences = nltk.sent_tokenize(paragraph)\n",
        "# create an object\n",
        "lematizer = WordNetLemmatizer()\n",
        "\n",
        "# looping\n",
        "store_words = []\n",
        "for i in range(len(sentences)):\n",
        "  x = re.sub(\"[^a-zA-Z0-9]\", \" \", sentences[i])\n",
        "  x = x.lower()\n",
        "  words = x.split()\n",
        "  words = [lematizer.lemmatize(word) for word in words if word not in set(stopwords.words(\"english\"))]    # if words not in stopwords then convert words to stemming\n",
        "  words = \" \".join(words)\n",
        "  store_words.append(words)"
      ],
      "execution_count": 11,
      "outputs": []
    },
    {
      "cell_type": "code",
      "metadata": {
        "colab": {
          "base_uri": "https://localhost:8080/"
        },
        "id": "27Mg_t5YgaEa",
        "outputId": "4b5377b2-d199-4e52-a219-70ef7edc0087"
      },
      "source": [
        "# converting text into vectors\n",
        "vectorized = TfidfVectorizer()\n",
        "vectorized_words = vectorized.fit_transform(store_words).toarray()    # converting into array\n",
        "print(vectorized_words)"
      ],
      "execution_count": 12,
      "outputs": [
        {
          "output_type": "stream",
          "name": "stdout",
          "text": [
            "[[0.         0.         0.         ... 0.         0.         0.        ]\n",
            " [0.         0.         0.32348709 ... 0.24491817 0.28871979 0.        ]\n",
            " [0.         0.         0.         ... 0.         0.         0.        ]\n",
            " ...\n",
            " [0.         0.         0.         ... 0.         0.         0.        ]\n",
            " [0.         0.         0.         ... 0.         0.         0.        ]\n",
            " [0.         0.         0.         ... 0.         0.         0.        ]]\n"
          ]
        }
      ]
    },
    {
      "cell_type": "markdown",
      "metadata": {
        "id": "ubmbc7h5swby"
      },
      "source": [
        "### **WORD2VEC:**"
      ]
    },
    {
      "cell_type": "code",
      "metadata": {
        "id": "BaDaZp4UgfEJ",
        "colab": {
          "base_uri": "https://localhost:8080/"
        },
        "outputId": "41722d7a-34ca-4a84-f47b-6211841e5a49"
      },
      "source": [
        "# importing word2vec library\n",
        "from gensim.models import Word2Vec\n",
        "# removing (. , 's like many)\n",
        "import re    \n",
        "# import stopwords library\n",
        "from nltk.corpus import stopwords    \n",
        "\n",
        "# Preprocessing the data\n",
        "text = re.sub(r'\\[[0-9]*\\]',' ',paragraph)\n",
        "text = re.sub(r'\\s+',' ',text)\n",
        "text = text.lower()\n",
        "text = re.sub(r'\\d',' ',text)\n",
        "text = re.sub(r'\\s+',' ',text)\n",
        "print(text)"
      ],
      "execution_count": 13,
      "outputs": [
        {
          "output_type": "stream",
          "name": "stdout",
          "text": [
            "i have three visions for india. in years of our history, people from all over the world have come and invaded us, captured our lands, conquered our minds. from alexander onwards, the greeks, the turks, the moguls, the portuguese, the british, the french, the dutch, all of them came and looted us, took over what was ours. yet we have not done this to any other nation. we have not conquered anyone. we have not grabbed their land, their culture, their history and tried to enforce our way of life on them. why? because we respect the freedom of others.that is why my first vision is that of freedom. i believe that india got its first vision of this in , when we started the war of independence. it is this freedom that we must protect and nurture and build on. if we are not free, no one will respect us. my second vision for india’s development. for fifty years we have been a developing nation. it is time we see ourselves as a developed nation. we are among the top nations of the world in terms of gdp. we have a percent growth rate in most areas. our poverty levels are falling. our achievements are being globally recognised today. yet we lack the self-confidence to see ourselves as a developed nation, self-reliant and self-assured. isn’t this incorrect? i have a third vision. india must stand up to the world. because i believe that unless india stands up to the world, no one will respect us. only strength respects strength. we must be strong not only as a military power but also as an economic power. both must go hand-in-hand. my good fortune was to have worked with three great minds. dr. vikram sarabhai of the dept. of space, professor satish dhawan, who succeeded him and dr. brahm prakash, father of nuclear material. i was lucky to have worked with all three of them closely and consider this the great opportunity of my life. i see four milestones in my career\n"
          ]
        }
      ]
    },
    {
      "cell_type": "code",
      "metadata": {
        "colab": {
          "base_uri": "https://localhost:8080/"
        },
        "id": "CZwH6jPlenT6",
        "outputId": "ecdd0e85-ae6a-45ba-abf7-360b59e54b3d"
      },
      "source": [
        "# convert the cleaned para into sentences\n",
        "sentences = nltk.sent_tokenize(text)\n",
        "print(sentences)\n",
        "# convert the sentences into word\n",
        "words = [nltk.word_tokenize(sentence) for sentence in sentences]\n",
        "print(words)"
      ],
      "execution_count": 14,
      "outputs": [
        {
          "output_type": "stream",
          "name": "stdout",
          "text": [
            "['i have three visions for india.', 'in years of our history, people from all over the world have come and invaded us, captured our lands, conquered our minds.', 'from alexander onwards, the greeks, the turks, the moguls, the portuguese, the british, the french, the dutch, all of them came and looted us, took over what was ours.', 'yet we have not done this to any other nation.', 'we have not conquered anyone.', 'we have not grabbed their land, their culture, their history and tried to enforce our way of life on them.', 'why?', 'because we respect the freedom of others.that is why my first vision is that of freedom.', 'i believe that india got its first vision of this in , when we started the war of independence.', 'it is this freedom that we must protect and nurture and build on.', 'if we are not free, no one will respect us.', 'my second vision for india’s development.', 'for fifty years we have been a developing nation.', 'it is time we see ourselves as a developed nation.', 'we are among the top nations of the world in terms of gdp.', 'we have a percent growth rate in most areas.', 'our poverty levels are falling.', 'our achievements are being globally recognised today.', 'yet we lack the self-confidence to see ourselves as a developed nation, self-reliant and self-assured.', 'isn’t this incorrect?', 'i have a third vision.', 'india must stand up to the world.', 'because i believe that unless india stands up to the world, no one will respect us.', 'only strength respects strength.', 'we must be strong not only as a military power but also as an economic power.', 'both must go hand-in-hand.', 'my good fortune was to have worked with three great minds.', 'dr. vikram sarabhai of the dept.', 'of space, professor satish dhawan, who succeeded him and dr. brahm prakash, father of nuclear material.', 'i was lucky to have worked with all three of them closely and consider this the great opportunity of my life.', 'i see four milestones in my career']\n",
            "[['i', 'have', 'three', 'visions', 'for', 'india', '.'], ['in', 'years', 'of', 'our', 'history', ',', 'people', 'from', 'all', 'over', 'the', 'world', 'have', 'come', 'and', 'invaded', 'us', ',', 'captured', 'our', 'lands', ',', 'conquered', 'our', 'minds', '.'], ['from', 'alexander', 'onwards', ',', 'the', 'greeks', ',', 'the', 'turks', ',', 'the', 'moguls', ',', 'the', 'portuguese', ',', 'the', 'british', ',', 'the', 'french', ',', 'the', 'dutch', ',', 'all', 'of', 'them', 'came', 'and', 'looted', 'us', ',', 'took', 'over', 'what', 'was', 'ours', '.'], ['yet', 'we', 'have', 'not', 'done', 'this', 'to', 'any', 'other', 'nation', '.'], ['we', 'have', 'not', 'conquered', 'anyone', '.'], ['we', 'have', 'not', 'grabbed', 'their', 'land', ',', 'their', 'culture', ',', 'their', 'history', 'and', 'tried', 'to', 'enforce', 'our', 'way', 'of', 'life', 'on', 'them', '.'], ['why', '?'], ['because', 'we', 'respect', 'the', 'freedom', 'of', 'others.that', 'is', 'why', 'my', 'first', 'vision', 'is', 'that', 'of', 'freedom', '.'], ['i', 'believe', 'that', 'india', 'got', 'its', 'first', 'vision', 'of', 'this', 'in', ',', 'when', 'we', 'started', 'the', 'war', 'of', 'independence', '.'], ['it', 'is', 'this', 'freedom', 'that', 'we', 'must', 'protect', 'and', 'nurture', 'and', 'build', 'on', '.'], ['if', 'we', 'are', 'not', 'free', ',', 'no', 'one', 'will', 'respect', 'us', '.'], ['my', 'second', 'vision', 'for', 'india', '’', 's', 'development', '.'], ['for', 'fifty', 'years', 'we', 'have', 'been', 'a', 'developing', 'nation', '.'], ['it', 'is', 'time', 'we', 'see', 'ourselves', 'as', 'a', 'developed', 'nation', '.'], ['we', 'are', 'among', 'the', 'top', 'nations', 'of', 'the', 'world', 'in', 'terms', 'of', 'gdp', '.'], ['we', 'have', 'a', 'percent', 'growth', 'rate', 'in', 'most', 'areas', '.'], ['our', 'poverty', 'levels', 'are', 'falling', '.'], ['our', 'achievements', 'are', 'being', 'globally', 'recognised', 'today', '.'], ['yet', 'we', 'lack', 'the', 'self-confidence', 'to', 'see', 'ourselves', 'as', 'a', 'developed', 'nation', ',', 'self-reliant', 'and', 'self-assured', '.'], ['isn', '’', 't', 'this', 'incorrect', '?'], ['i', 'have', 'a', 'third', 'vision', '.'], ['india', 'must', 'stand', 'up', 'to', 'the', 'world', '.'], ['because', 'i', 'believe', 'that', 'unless', 'india', 'stands', 'up', 'to', 'the', 'world', ',', 'no', 'one', 'will', 'respect', 'us', '.'], ['only', 'strength', 'respects', 'strength', '.'], ['we', 'must', 'be', 'strong', 'not', 'only', 'as', 'a', 'military', 'power', 'but', 'also', 'as', 'an', 'economic', 'power', '.'], ['both', 'must', 'go', 'hand-in-hand', '.'], ['my', 'good', 'fortune', 'was', 'to', 'have', 'worked', 'with', 'three', 'great', 'minds', '.'], ['dr.', 'vikram', 'sarabhai', 'of', 'the', 'dept', '.'], ['of', 'space', ',', 'professor', 'satish', 'dhawan', ',', 'who', 'succeeded', 'him', 'and', 'dr.', 'brahm', 'prakash', ',', 'father', 'of', 'nuclear', 'material', '.'], ['i', 'was', 'lucky', 'to', 'have', 'worked', 'with', 'all', 'three', 'of', 'them', 'closely', 'and', 'consider', 'this', 'the', 'great', 'opportunity', 'of', 'my', 'life', '.'], ['i', 'see', 'four', 'milestones', 'in', 'my', 'career']]\n"
          ]
        }
      ]
    },
    {
      "cell_type": "code",
      "metadata": {
        "colab": {
          "base_uri": "https://localhost:8080/"
        },
        "id": "GgtgkU-6b_F9",
        "outputId": "563c2045-0e2b-4ad2-f0a0-8f7396ab9098"
      },
      "source": [
        "# fit dataset into model\n",
        "model = Word2Vec(words, min_count=1)   # words present <1 ignore it\n",
        "print(model)"
      ],
      "execution_count": 15,
      "outputs": [
        {
          "output_type": "stream",
          "name": "stdout",
          "text": [
            "Word2Vec(vocab=176, size=100, alpha=0.025)\n"
          ]
        }
      ]
    },
    {
      "cell_type": "code",
      "metadata": {
        "colab": {
          "base_uri": "https://localhost:8080/"
        },
        "id": "OF0SUEtFtGKf",
        "outputId": "4be1a1f2-9ca3-4b15-b0fa-efa27184f467"
      },
      "source": [
        "# all vocab are stored in word\n",
        "word = model.wv.vocab\n",
        "print(word.keys())     # word are stored in dict so we keys to get words"
      ],
      "execution_count": 16,
      "outputs": [
        {
          "output_type": "stream",
          "name": "stdout",
          "text": [
            "dict_keys(['i', 'have', 'three', 'visions', 'for', 'india', '.', 'in', 'years', 'of', 'our', 'history', ',', 'people', 'from', 'all', 'over', 'the', 'world', 'come', 'and', 'invaded', 'us', 'captured', 'lands', 'conquered', 'minds', 'alexander', 'onwards', 'greeks', 'turks', 'moguls', 'portuguese', 'british', 'french', 'dutch', 'them', 'came', 'looted', 'took', 'what', 'was', 'ours', 'yet', 'we', 'not', 'done', 'this', 'to', 'any', 'other', 'nation', 'anyone', 'grabbed', 'their', 'land', 'culture', 'tried', 'enforce', 'way', 'life', 'on', 'why', '?', 'because', 'respect', 'freedom', 'others.that', 'is', 'my', 'first', 'vision', 'that', 'believe', 'got', 'its', 'when', 'started', 'war', 'independence', 'it', 'must', 'protect', 'nurture', 'build', 'if', 'are', 'free', 'no', 'one', 'will', 'second', '’', 's', 'development', 'fifty', 'been', 'a', 'developing', 'time', 'see', 'ourselves', 'as', 'developed', 'among', 'top', 'nations', 'terms', 'gdp', 'percent', 'growth', 'rate', 'most', 'areas', 'poverty', 'levels', 'falling', 'achievements', 'being', 'globally', 'recognised', 'today', 'lack', 'self-confidence', 'self-reliant', 'self-assured', 'isn', 't', 'incorrect', 'third', 'stand', 'up', 'unless', 'stands', 'only', 'strength', 'respects', 'be', 'strong', 'military', 'power', 'but', 'also', 'an', 'economic', 'both', 'go', 'hand-in-hand', 'good', 'fortune', 'worked', 'with', 'great', 'dr.', 'vikram', 'sarabhai', 'dept', 'space', 'professor', 'satish', 'dhawan', 'who', 'succeeded', 'him', 'brahm', 'prakash', 'father', 'nuclear', 'material', 'lucky', 'closely', 'consider', 'opportunity', 'four', 'milestones', 'career'])\n"
          ]
        }
      ]
    },
    {
      "cell_type": "code",
      "metadata": {
        "colab": {
          "base_uri": "https://localhost:8080/"
        },
        "id": "_TrgFzCpgVZN",
        "outputId": "9df419ae-7048-46fa-b584-92e047ebc31c"
      },
      "source": [
        "# Finding Word Vectors\n",
        "vector = model.wv[\"war\"]\n",
        "print(vector)"
      ],
      "execution_count": 17,
      "outputs": [
        {
          "output_type": "stream",
          "name": "stdout",
          "text": [
            "[-3.2482999e-03  1.4656609e-03  2.1252725e-03  1.8669626e-03\n",
            " -2.6341830e-03 -2.7584883e-03 -7.9242804e-04  9.1788382e-04\n",
            "  2.8678507e-03  4.0732333e-03 -3.6584847e-03  2.0972651e-03\n",
            " -4.7109593e-03  3.7039064e-03  3.7942773e-03  3.5441152e-03\n",
            "  1.1455053e-03  3.7137051e-03 -4.9358560e-03 -4.2003375e-03\n",
            "  3.5822641e-03 -2.5678822e-03  2.5912579e-03  1.7036966e-03\n",
            "  2.5322593e-03 -3.8761491e-04 -1.9654455e-03 -1.5291142e-03\n",
            " -3.3702231e-03 -1.9425313e-03 -2.8393385e-03 -9.9643970e-05\n",
            "  4.9803448e-03 -4.8959982e-03 -2.7160003e-04  2.4231297e-03\n",
            " -1.9495876e-03  2.7013866e-03  4.9956643e-04  9.0886879e-04\n",
            "  2.8646558e-03 -2.9437086e-03 -4.1285553e-03 -7.2509405e-04\n",
            "  2.7443990e-03 -4.5950604e-03  3.8048483e-03 -4.9947840e-03\n",
            " -4.6645473e-03 -2.5102936e-03 -2.0687359e-03  2.5654978e-03\n",
            " -2.5213591e-03 -6.3499302e-04  3.5189141e-03  4.6635014e-03\n",
            " -2.8488587e-03 -3.9584246e-03  3.7729556e-03  3.7514886e-03\n",
            "  1.0952637e-05 -2.7980527e-03  1.1809780e-03 -1.0468566e-04\n",
            " -6.5486989e-04  3.5845176e-03  4.7727269e-03  3.9113876e-03\n",
            "  2.7871516e-03 -6.3967286e-04  7.6906738e-04  4.7984812e-03\n",
            " -1.6449532e-03  3.6449856e-04  4.1499450e-03 -2.2889988e-03\n",
            " -3.7534481e-03 -4.6765897e-03  4.7713644e-03 -4.7976823e-04\n",
            " -2.8472338e-03 -1.3302745e-03  3.5912176e-03 -4.2283125e-03\n",
            " -3.6354428e-03  4.5384220e-03  3.6734564e-03  4.5476314e-03\n",
            " -2.8284779e-03  1.4863802e-03 -4.2860750e-03  3.1995767e-04\n",
            "  1.5355258e-03 -3.3217766e-03  1.2337201e-03  3.6471582e-03\n",
            "  2.1957743e-03 -2.1761532e-03  3.4424549e-03  3.9595822e-03]\n"
          ]
        }
      ]
    },
    {
      "cell_type": "code",
      "metadata": {
        "colab": {
          "base_uri": "https://localhost:8080/"
        },
        "id": "_OcblzLKiGCx",
        "outputId": "5714efef-26e7-466d-9244-3effb2d018d2"
      },
      "source": [
        "similar_word = model.wv.similar_by_word(\"freedom\")\n",
        "print(similar_word)"
      ],
      "execution_count": 18,
      "outputs": [
        {
          "output_type": "stream",
          "name": "stdout",
          "text": [
            "[('nuclear', 0.2909579873085022), ('took', 0.23266899585723877), ('lucky', 0.2271532118320465), ('us', 0.2251187413930893), ('world', 0.2220311313867569), ('to', 0.21833674609661102), ('power', 0.2132052481174469), ('independence', 0.19514912366867065), ('our', 0.19300392270088196), ('people', 0.18718533217906952)]\n"
          ]
        }
      ]
    }
  ]
}